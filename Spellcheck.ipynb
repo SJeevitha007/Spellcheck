{
  "nbformat": 4,
  "nbformat_minor": 0,
  "metadata": {
    "colab": {
      "provenance": [],
      "authorship_tag": "ABX9TyMynbVlvP3kqih/js8olPPH"
    },
    "kernelspec": {
      "name": "python3",
      "display_name": "Python 3"
    },
    "language_info": {
      "name": "python"
    }
  },
  "cells": [
    {
      "cell_type": "markdown",
      "source": [
        "# Using Spello"
      ],
      "metadata": {
        "id": "nn1M14XkXXtu"
      }
    },
    {
      "cell_type": "code",
      "source": [
        "pip install spello"
      ],
      "metadata": {
        "colab": {
          "base_uri": "https://localhost:8080/"
        },
        "id": "2aByCiWBLzov",
        "outputId": "4a8e549f-e501-4cfe-ac5d-73fd260b14ca"
      },
      "execution_count": 4,
      "outputs": [
        {
          "output_type": "stream",
          "name": "stdout",
          "text": [
            "Looking in indexes: https://pypi.org/simple, https://us-python.pkg.dev/colab-wheels/public/simple/\n",
            "Collecting spello\n",
            "  Downloading spello-1.3.0-py3-none-any.whl (25 kB)\n",
            "Requirement already satisfied: nltk<4,>=3.4.5 in /usr/local/lib/python3.8/dist-packages (from spello) (3.7)\n",
            "Requirement already satisfied: click in /usr/local/lib/python3.8/dist-packages (from nltk<4,>=3.4.5->spello) (8.1.3)\n",
            "Requirement already satisfied: tqdm in /usr/local/lib/python3.8/dist-packages (from nltk<4,>=3.4.5->spello) (4.64.1)\n",
            "Requirement already satisfied: joblib in /usr/local/lib/python3.8/dist-packages (from nltk<4,>=3.4.5->spello) (1.2.0)\n",
            "Requirement already satisfied: regex>=2021.8.3 in /usr/local/lib/python3.8/dist-packages (from nltk<4,>=3.4.5->spello) (2022.6.2)\n",
            "Installing collected packages: spello\n",
            "Successfully installed spello-1.3.0\n"
          ]
        }
      ]
    },
    {
      "cell_type": "code",
      "execution_count": 5,
      "metadata": {
        "id": "5NfWjEjUGyX8"
      },
      "outputs": [],
      "source": [
        "import pandas as pd\n",
        "from spello.model import SpellCorrectionModel"
      ]
    },
    {
      "cell_type": "code",
      "source": [
        "with open(\"big.txt\",\"r\") as f:\n",
        "  line=f.readlines()\n",
        "line"
      ],
      "metadata": {
        "id": "BeDF3uFpJXgx"
      },
      "execution_count": null,
      "outputs": []
    },
    {
      "cell_type": "code",
      "source": [
        "line=[i.strip() for i in line]\n",
        "line"
      ],
      "metadata": {
        "id": "vycCsQa0MyYn"
      },
      "execution_count": null,
      "outputs": []
    },
    {
      "cell_type": "code",
      "source": [
        "import re\n",
        "line_t=[re.sub(\"[^\\w\\s]+\",\" \",text) for text in line]\n",
        "line_t"
      ],
      "metadata": {
        "id": "0oMNAuedM_G8"
      },
      "execution_count": null,
      "outputs": []
    },
    {
      "cell_type": "code",
      "source": [
        "line_=[re.sub(\"\\s+\",\" \",text) for text in line_t]\n",
        "line_"
      ],
      "metadata": {
        "id": "jdZUmI5mNqE4"
      },
      "execution_count": null,
      "outputs": []
    },
    {
      "cell_type": "code",
      "source": [
        "line_r = [text for text in line_ if text != '']\n",
        "line_r"
      ],
      "metadata": {
        "id": "6fUdIL14Ov7C"
      },
      "execution_count": null,
      "outputs": []
    },
    {
      "cell_type": "code",
      "source": [
        "line_s=[re.sub(\"\\'+\",\"\",text) for text in line_r]\n",
        "line_s"
      ],
      "metadata": {
        "id": "Y0qV1MseRgQU"
      },
      "execution_count": null,
      "outputs": []
    },
    {
      "cell_type": "markdown",
      "source": [
        "Training"
      ],
      "metadata": {
        "id": "VVCZgD-QUtsH"
      }
    },
    {
      "cell_type": "code",
      "source": [
        "sp = SpellCorrectionModel(language='en')\n",
        "sp.train(line_s)"
      ],
      "metadata": {
        "colab": {
          "base_uri": "https://localhost:8080/"
        },
        "id": "84OQ9tsAUZ5B",
        "outputId": "a8737b02-8267-4411-c408-a2708f49ce91"
      },
      "execution_count": 44,
      "outputs": [
        {
          "output_type": "stream",
          "name": "stdout",
          "text": [
            "Spello training started..\n"
          ]
        },
        {
          "output_type": "stream",
          "name": "stderr",
          "text": [
            "DEBUG:spello.settings:Spello training started..\n"
          ]
        },
        {
          "output_type": "stream",
          "name": "stdout",
          "text": [
            "Context model training started ...\n"
          ]
        },
        {
          "output_type": "stream",
          "name": "stderr",
          "text": [
            "DEBUG:spello.settings:Context model training started ...\n"
          ]
        },
        {
          "output_type": "stream",
          "name": "stdout",
          "text": [
            "Symspell training started ...\n"
          ]
        },
        {
          "output_type": "stream",
          "name": "stderr",
          "text": [
            "DEBUG:spello.settings:Symspell training started ...\n"
          ]
        },
        {
          "output_type": "stream",
          "name": "stdout",
          "text": [
            "Phoneme training started ...\n"
          ]
        },
        {
          "output_type": "stream",
          "name": "stderr",
          "text": [
            "DEBUG:spello.settings:Phoneme training started ...\n"
          ]
        },
        {
          "output_type": "stream",
          "name": "stdout",
          "text": [
            "Spello training completed successfully ...\n"
          ]
        },
        {
          "output_type": "stream",
          "name": "stderr",
          "text": [
            "DEBUG:spello.settings:Spello training completed successfully ...\n"
          ]
        }
      ]
    },
    {
      "cell_type": "markdown",
      "source": [
        "Testing"
      ],
      "metadata": {
        "id": "PCZiRrWuUvJC"
      }
    },
    {
      "cell_type": "code",
      "source": [
        "sp.spell_correct(\"Helo\")"
      ],
      "metadata": {
        "colab": {
          "base_uri": "https://localhost:8080/"
        },
        "id": "ZSf-HADQUxAY",
        "outputId": "78923aae-ae71-499c-dd09-12f20e5a5cdc"
      },
      "execution_count": 47,
      "outputs": [
        {
          "output_type": "stream",
          "name": "stderr",
          "text": [
            "DEBUG:spello.settings:Symspell suggestions: [('held', 1), ('help', 1), ('hero', 1), ('hell', 1), ('halo', 1), ('hello', 1), ('helm', 1), ('held', 1), ('help', 1), ('hero', 1), ('hell', 1), ('halo', 1), ('hello', 1), ('helm', 1), ('hero', 1), ('halo', 1), ('hello', 1)]\n",
            "DEBUG:spello.settings:Phoneme suggestions: [('hello', 1), ('hello', 1), ('hello', 1), ('hell', 1), ('hell', 1), ('halo', 1), ('halo', 1), ('halo', 1), ('hale', 2), ('hale', 2), ('hole', 2), ('hole', 2), ('hill', 2), ('hill', 2), ('hull', 2), ('hull', 2), ('hallo', 2), ('hallo', 2), ('hallo', 2), ('holy', 2), ('holy', 2), ('hullo', 2), ('hullo', 2), ('hullo', 2), ('heel', 2), ('heel', 2), ('heal', 2), ('heal', 2), ('hall', 2), ('hall', 2), ('haul', 3), ('hollow', 3), ('howl', 3), ('hilly', 3), ('holly', 3), ('hail', 3)]\n",
            "DEBUG:spello.settings:Suggestions dict from phoneme and symspell are: {'helo': ['hello', 'hell', 'halo', 'held', 'help', 'hero', 'helm', 'hale', 'hole', 'hill', 'hull', 'hallo', 'holy', 'hullo', 'heel', 'heal', 'hall', 'haul', 'hollow', 'howl', 'hilly', 'holly', 'hail']}\n",
            "DEBUG:spello.settings:text after context model: hello\n",
            "DEBUG:spello.settings:Spell-correction Results {'original_text': 'Helo', 'spell_corrected_text': 'hello', 'correction_dict': {'Helo': 'hello'}}\n"
          ]
        },
        {
          "output_type": "execute_result",
          "data": {
            "text/plain": [
              "{'original_text': 'Helo',\n",
              " 'spell_corrected_text': 'hello',\n",
              " 'correction_dict': {'Helo': 'hello'}}"
            ]
          },
          "metadata": {},
          "execution_count": 47
        }
      ]
    },
    {
      "cell_type": "code",
      "source": [
        "sp.spell_correct(\"I lov pan cak\")"
      ],
      "metadata": {
        "colab": {
          "base_uri": "https://localhost:8080/"
        },
        "id": "zD1GpArqVo-a",
        "outputId": "ebc8bb84-9a71-4549-9ae1-562380ac1872"
      },
      "execution_count": 49,
      "outputs": [
        {
          "output_type": "stream",
          "name": "stderr",
          "text": [
            "DEBUG:spello.settings:Symspell suggestions: [('love', 1), ('low', 1), ('lot', 1), ('log', 1), ('los', 1), ('sov', 1), ('nov', 1), ('lo', 1), ('loi', 1), ('love', 1), ('low', 1), ('lot', 1), ('log', 1), ('los', 1), ('lo', 1), ('loi', 1), ('sov', 1), ('nov', 1)]\n",
            "DEBUG:spello.settings:Phoneme suggestions: [('love', 1), ('love', 1), ('levy', 2), ('lope', 2), ('lore', 2), ('loop', 2), ('live', 2), ('levi', 2), ('lava', 2), ('lip', 2), ('lab', 2), ('lap', 2)]\n",
            "DEBUG:spello.settings:Symspell suggestions: [('can', 1), ('cap', 1), ('cab', 1), ('oak', 1), ('cat', 1), ('car', 1), ('cake', 1), ('ak', 1), ('ca', 1), ('cal', 1), ('can', 1), ('cap', 1), ('cab', 1), ('cat', 1), ('car', 1), ('cake', 1), ('ca', 1), ('cal', 1), ('oak', 1), ('ak', 1)]\n",
            "DEBUG:spello.settings:Phoneme suggestions: [('cake', 1), ('cake', 1), ('cook', 2), ('cook', 2)]\n",
            "DEBUG:spello.settings:Suggestions dict from phoneme and symspell are: {'lov': ['love', 'low', 'lot', 'log', 'los', 'sov', 'nov', 'lo', 'loi', 'levy', 'lope', 'lore', 'loop', 'live', 'levi', 'lava', 'lip', 'lab', 'lap'], 'cak': ['cake', 'can', 'cap', 'cab', 'oak', 'cat', 'car', 'ak', 'ca', 'cal', 'cook']}\n",
            "DEBUG:spello.settings:text after context model: I love pan cake\n",
            "DEBUG:spello.settings:Spell-correction Results {'original_text': 'I lov pan cak', 'spell_corrected_text': 'I love pan cake', 'correction_dict': {'lov': 'love', 'cak': 'cake'}}\n"
          ]
        },
        {
          "output_type": "execute_result",
          "data": {
            "text/plain": [
              "{'original_text': 'I lov pan cak',\n",
              " 'spell_corrected_text': 'I love pan cake',\n",
              " 'correction_dict': {'lov': 'love', 'cak': 'cake'}}"
            ]
          },
          "metadata": {},
          "execution_count": 49
        }
      ]
    },
    {
      "cell_type": "code",
      "source": [
        "sent='''The rabbit-hole went stight on like a tunnel for some way, and then dipped suddenly down,\n",
        "so suddenly that Alice had not a moment to think abut stopping herself befre she found herself falling down a very deep well.'''\n",
        "\n",
        "sp.spell_correct(sent)"
      ],
      "metadata": {
        "colab": {
          "base_uri": "https://localhost:8080/"
        },
        "id": "zjLmAfuiV21V",
        "outputId": "9bd5514e-09db-45f6-df9b-8b34733595a6"
      },
      "execution_count": 52,
      "outputs": [
        {
          "output_type": "stream",
          "name": "stderr",
          "text": [
            "DEBUG:spello.settings:Symspell suggestions: []\n",
            "DEBUG:spello.settings:Phoneme suggestions: []\n",
            "DEBUG:spello.settings:Symspell suggestions: [('sight', 1), ('slight', 1), ('tight', 1), ('sight', 1), ('slight', 1), ('sight', 1), ('slight', 1), ('tight', 1)]\n",
            "DEBUG:spello.settings:Phoneme suggestions: [('stwaight', 2), ('stwaight', 2), ('stwaight', 2)]\n",
            "DEBUG:spello.settings:Symspell suggestions: [('but', 1), ('about', 1), ('about', 1), ('but', 1), ('about', 1)]\n",
            "DEBUG:spello.settings:Phoneme suggestions: [('about', 1), ('about', 1), ('about', 1), ('apt', 2), ('apt', 2), ('apt', 2), ('abate', 2), ('abate', 2), ('abbot', 2), ('abbot', 2), ('abbot', 2), ('abbott', 3), ('abbott', 3), ('abide', 3), ('abode', 3)]\n",
            "DEBUG:spello.settings:Symspell suggestions: [('before', 1), ('before', 1), ('before', 1)]\n",
            "DEBUG:spello.settings:Phoneme suggestions: [('before', 1), ('before', 1), ('before', 1)]\n",
            "DEBUG:spello.settings:Suggestions dict from phoneme and symspell are: {'stight': ['sight', 'slight', 'tight', 'stwaight'], 'abut': ['about', 'but', 'apt', 'abate', 'abbot', 'abbott', 'abide', 'abode'], 'befre': ['before']}\n",
            "DEBUG:spello.settings:text after context model: The rabbit-hole went slight on like a tunnel for some way  and then dipped suddenly down \n",
            "so suddenly that Alice had not a moment to think about stopping herself before she found herself falling down a very deep well\n",
            "DEBUG:spello.settings:Spell-correction Results {'original_text': 'The rabbit-hole went stight on like a tunnel for some way, and then dipped suddenly down,\\nso suddenly that Alice had not a moment to think abut stopping herself befre she found herself falling down a very deep well.', 'spell_corrected_text': 'The rabbit-hole went slight on like a tunnel for some way  and then dipped suddenly down \\nso suddenly that Alice had not a moment to think about stopping herself before she found herself falling down a very deep well', 'correction_dict': {'stight': 'slight', 'abut': 'about', 'befre': 'before'}}\n"
          ]
        },
        {
          "output_type": "execute_result",
          "data": {
            "text/plain": [
              "{'original_text': 'The rabbit-hole went stight on like a tunnel for some way, and then dipped suddenly down,\\nso suddenly that Alice had not a moment to think abut stopping herself befre she found herself falling down a very deep well.',\n",
              " 'spell_corrected_text': 'The rabbit-hole went slight on like a tunnel for some way  and then dipped suddenly down \\nso suddenly that Alice had not a moment to think about stopping herself before she found herself falling down a very deep well',\n",
              " 'correction_dict': {'stight': 'slight', 'abut': 'about', 'befre': 'before'}}"
            ]
          },
          "metadata": {},
          "execution_count": 52
        }
      ]
    }
  ]
}